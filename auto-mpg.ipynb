{
 "cells": [
  {
   "metadata": {},
   "cell_type": "markdown",
   "source": [
    "# Fuel Economy Data Analysis\n",
    "## Overview\n",
    "This notebook analyzes the Auto MPG dataset using linear regression techniques to predict fuel economy (mpg) based on vehicle characteristics including:\n",
    "- Weight\n",
    "- Number of cylinders\n",
    "- Horsepower\n",
    "- Model year\n",
    "- Origin\n",
    "- And other features\n",
    "\n",
    "We'll explore the data, build and evaluate regression models, and analyze their performance.\n"
   ],
   "id": "5044e5a08912191"
  },
  {
   "metadata": {
    "ExecuteTime": {
     "end_time": "2025-08-01T19:01:28.416682Z",
     "start_time": "2025-08-01T19:01:28.397492Z"
    }
   },
   "cell_type": "code",
   "source": [
    "# Import required libraries\n",
    "import pandas as pd\n",
    "import numpy as np\n",
    "import seaborn as sns\n",
    "\n",
    "# Load the dataset\n",
    "mpg = pd.read_csv('Data/auto-mpg.csv')\n",
    "\n",
    "# Display the first few rows to understand the data structure\n",
    "mpg.head()\n"
   ],
   "id": "708283c0f0c1b29c",
   "outputs": [
    {
     "data": {
      "text/plain": [
       "    mpg  cylinders  displacement horsepower  weight  acceleration  model year  \\\n",
       "0  18.0          8         307.0        130    3504          12.0          70   \n",
       "1  15.0          8         350.0        165    3693          11.5          70   \n",
       "2  18.0          8         318.0        150    3436          11.0          70   \n",
       "3  16.0          8         304.0        150    3433          12.0          70   \n",
       "4  17.0          8         302.0        140    3449          10.5          70   \n",
       "\n",
       "   origin                   car name  \n",
       "0       1  chevrolet chevelle malibu  \n",
       "1       1          buick skylark 320  \n",
       "2       1         plymouth satellite  \n",
       "3       1              amc rebel sst  \n",
       "4       1                ford torino  "
      ],
      "text/html": [
       "<div>\n",
       "<style scoped>\n",
       "    .dataframe tbody tr th:only-of-type {\n",
       "        vertical-align: middle;\n",
       "    }\n",
       "\n",
       "    .dataframe tbody tr th {\n",
       "        vertical-align: top;\n",
       "    }\n",
       "\n",
       "    .dataframe thead th {\n",
       "        text-align: right;\n",
       "    }\n",
       "</style>\n",
       "<table border=\"1\" class=\"dataframe\">\n",
       "  <thead>\n",
       "    <tr style=\"text-align: right;\">\n",
       "      <th></th>\n",
       "      <th>mpg</th>\n",
       "      <th>cylinders</th>\n",
       "      <th>displacement</th>\n",
       "      <th>horsepower</th>\n",
       "      <th>weight</th>\n",
       "      <th>acceleration</th>\n",
       "      <th>model year</th>\n",
       "      <th>origin</th>\n",
       "      <th>car name</th>\n",
       "    </tr>\n",
       "  </thead>\n",
       "  <tbody>\n",
       "    <tr>\n",
       "      <th>0</th>\n",
       "      <td>18.0</td>\n",
       "      <td>8</td>\n",
       "      <td>307.0</td>\n",
       "      <td>130</td>\n",
       "      <td>3504</td>\n",
       "      <td>12.0</td>\n",
       "      <td>70</td>\n",
       "      <td>1</td>\n",
       "      <td>chevrolet chevelle malibu</td>\n",
       "    </tr>\n",
       "    <tr>\n",
       "      <th>1</th>\n",
       "      <td>15.0</td>\n",
       "      <td>8</td>\n",
       "      <td>350.0</td>\n",
       "      <td>165</td>\n",
       "      <td>3693</td>\n",
       "      <td>11.5</td>\n",
       "      <td>70</td>\n",
       "      <td>1</td>\n",
       "      <td>buick skylark 320</td>\n",
       "    </tr>\n",
       "    <tr>\n",
       "      <th>2</th>\n",
       "      <td>18.0</td>\n",
       "      <td>8</td>\n",
       "      <td>318.0</td>\n",
       "      <td>150</td>\n",
       "      <td>3436</td>\n",
       "      <td>11.0</td>\n",
       "      <td>70</td>\n",
       "      <td>1</td>\n",
       "      <td>plymouth satellite</td>\n",
       "    </tr>\n",
       "    <tr>\n",
       "      <th>3</th>\n",
       "      <td>16.0</td>\n",
       "      <td>8</td>\n",
       "      <td>304.0</td>\n",
       "      <td>150</td>\n",
       "      <td>3433</td>\n",
       "      <td>12.0</td>\n",
       "      <td>70</td>\n",
       "      <td>1</td>\n",
       "      <td>amc rebel sst</td>\n",
       "    </tr>\n",
       "    <tr>\n",
       "      <th>4</th>\n",
       "      <td>17.0</td>\n",
       "      <td>8</td>\n",
       "      <td>302.0</td>\n",
       "      <td>140</td>\n",
       "      <td>3449</td>\n",
       "      <td>10.5</td>\n",
       "      <td>70</td>\n",
       "      <td>1</td>\n",
       "      <td>ford torino</td>\n",
       "    </tr>\n",
       "  </tbody>\n",
       "</table>\n",
       "</div>"
      ]
     },
     "execution_count": 2,
     "metadata": {},
     "output_type": "execute_result"
    }
   ],
   "execution_count": 2
  },
  {
   "metadata": {},
   "cell_type": "markdown",
   "source": "## Data Exploration and Preprocessing\n",
   "id": "24216adc5243fc34"
  },
  {
   "metadata": {
    "ExecuteTime": {
     "end_time": "2025-08-01T20:02:45.944259Z",
     "start_time": "2025-08-01T20:02:45.925887Z"
    }
   },
   "cell_type": "code",
   "source": [
    "# Check data types and missing values\n",
    "mpg.info()"
   ],
   "id": "e09eb1a6f1550921",
   "outputs": [
    {
     "name": "stdout",
     "output_type": "stream",
     "text": [
      "<class 'pandas.core.frame.DataFrame'>\n",
      "RangeIndex: 398 entries, 0 to 397\n",
      "Data columns (total 9 columns):\n",
      " #   Column        Non-Null Count  Dtype  \n",
      "---  ------        --------------  -----  \n",
      " 0   mpg           398 non-null    float64\n",
      " 1   cylinders     398 non-null    int64  \n",
      " 2   displacement  398 non-null    float64\n",
      " 3   horsepower    398 non-null    object \n",
      " 4   weight        398 non-null    int64  \n",
      " 5   acceleration  398 non-null    float64\n",
      " 6   model year    398 non-null    int64  \n",
      " 7   origin        398 non-null    int64  \n",
      " 8   car name      398 non-null    object \n",
      "dtypes: float64(3), int64(4), object(2)\n",
      "memory usage: 28.1+ KB\n"
     ]
    }
   ],
   "execution_count": 3
  },
  {
   "metadata": {
    "ExecuteTime": {
     "end_time": "2025-08-01T20:04:00.842059Z",
     "start_time": "2025-08-01T20:04:00.831421Z"
    }
   },
   "cell_type": "code",
   "source": [
    "# Convert 'origin' to a categorical (object) type since it represents categories (1: USA, 2: Europe, 3: Asia)\n",
    "mpg[\"origin\"] = mpg[\"origin\"].astype(\"object\")\n",
    "mpg.info()"
   ],
   "id": "6b0a56dab615ec09",
   "outputs": [
    {
     "name": "stdout",
     "output_type": "stream",
     "text": [
      "<class 'pandas.core.frame.DataFrame'>\n",
      "RangeIndex: 398 entries, 0 to 397\n",
      "Data columns (total 9 columns):\n",
      " #   Column        Non-Null Count  Dtype  \n",
      "---  ------        --------------  -----  \n",
      " 0   mpg           398 non-null    float64\n",
      " 1   cylinders     398 non-null    int64  \n",
      " 2   displacement  398 non-null    float64\n",
      " 3   horsepower    398 non-null    object \n",
      " 4   weight        398 non-null    int64  \n",
      " 5   acceleration  398 non-null    float64\n",
      " 6   model year    398 non-null    int64  \n",
      " 7   origin        398 non-null    object \n",
      " 8   car name      398 non-null    object \n",
      "dtypes: float64(3), int64(3), object(3)\n",
      "memory usage: 28.1+ KB\n"
     ]
    }
   ],
   "execution_count": 4
  },
  {
   "metadata": {
    "ExecuteTime": {
     "end_time": "2025-08-01T20:04:32.947792Z",
     "start_time": "2025-08-01T20:04:32.931660Z"
    }
   },
   "cell_type": "code",
   "source": [
    "# Check unique values in horsepower to identify any issues\n",
    "mpg[\"horsepower\"].unique()\n",
    "# We can see there are '?' values that need to be handled\n"
   ],
   "id": "142134f8c45241f4",
   "outputs": [
    {
     "data": {
      "text/plain": [
       "array(['130', '165', '150', '140', '198', '220', '215', '225', '190',\n",
       "       '170', '160', '95', '97', '85', '88', '46', '87', '90', '113',\n",
       "       '200', '210', '193', '?', '100', '105', '175', '153', '180', '110',\n",
       "       '72', '86', '70', '76', '65', '69', '60', '80', '54', '208', '155',\n",
       "       '112', '92', '145', '137', '158', '167', '94', '107', '230', '49',\n",
       "       '75', '91', '122', '67', '83', '78', '52', '61', '93', '148',\n",
       "       '129', '96', '71', '98', '115', '53', '81', '79', '120', '152',\n",
       "       '102', '108', '68', '58', '149', '89', '63', '48', '66', '139',\n",
       "       '103', '125', '133', '138', '135', '142', '77', '62', '132', '84',\n",
       "       '64', '74', '116', '82'], dtype=object)"
      ]
     },
     "execution_count": 5,
     "metadata": {},
     "output_type": "execute_result"
    }
   ],
   "execution_count": 5
  },
  {
   "metadata": {},
   "cell_type": "code",
   "outputs": [],
   "execution_count": null,
   "source": [
    "# Find rows with missing horsepower values\n",
    "mpg.query(\"horsepower == '?'\")\n"
   ],
   "id": "69e560cc917a9e3b"
  },
  {
   "metadata": {},
   "cell_type": "markdown",
   "source": "### Handling Missing Values\n",
   "id": "4bc43c333dc4bc2f"
  },
  {
   "metadata": {},
   "cell_type": "code",
   "outputs": [],
   "execution_count": null,
   "source": [
    "# Convert horsepower to numeric, handling the '?' values\n",
    "# First convert to numeric, which will turn '?' into NaN\n",
    "mpg[\"horsepower\"] = pd.to_numeric(mpg[\"horsepower\"], errors='coerce')\n",
    "mpg.query(\"horsepower == '?'\")\n",
    "\n",
    "# Fill NaN values with the mean horsepower\n",
    "mpg[\"horsepower\"] = mpg[\"horsepower\"].fillna(mpg[\"horsepower\"].mean())\n",
    "mpg.info()\n",
    "# All data is now properly typed and has no missing values\n"
   ],
   "id": "dcb587110fb36e22"
  },
  {
   "metadata": {},
   "cell_type": "markdown",
   "source": "## Descriptive Statistics and Visualization\n",
   "id": "3389b947b13eedf3"
  },
  {
   "metadata": {
    "ExecuteTime": {
     "end_time": "2025-08-01T20:14:13.184505Z",
     "start_time": "2025-08-01T20:14:13.163286Z"
    }
   },
   "cell_type": "code",
   "source": [
    "# Summary statistics of numerical features\n",
    "mpg.describe()\n",
    "# This gives us range, mean, std and quartiles for each numeric feature\n"
   ],
   "id": "99d4c57bb41aded1",
   "outputs": [
    {
     "data": {
      "text/plain": [
       "              mpg   cylinders  displacement  horsepower       weight  \\\n",
       "count  398.000000  398.000000    398.000000  398.000000   398.000000   \n",
       "mean    23.514573    5.454774    193.425879  104.469388  2970.424623   \n",
       "std      7.815984    1.701004    104.269838   38.199187   846.841774   \n",
       "min      9.000000    3.000000     68.000000   46.000000  1613.000000   \n",
       "25%     17.500000    4.000000    104.250000   76.000000  2223.750000   \n",
       "50%     23.000000    4.000000    148.500000   95.000000  2803.500000   \n",
       "75%     29.000000    8.000000    262.000000  125.000000  3608.000000   \n",
       "max     46.600000    8.000000    455.000000  230.000000  5140.000000   \n",
       "\n",
       "       acceleration  model year  \n",
       "count    398.000000  398.000000  \n",
       "mean      15.568090   76.010050  \n",
       "std        2.757689    3.697627  \n",
       "min        8.000000   70.000000  \n",
       "25%       13.825000   73.000000  \n",
       "50%       15.500000   76.000000  \n",
       "75%       17.175000   79.000000  \n",
       "max       24.800000   82.000000  "
      ],
      "text/html": [
       "<div>\n",
       "<style scoped>\n",
       "    .dataframe tbody tr th:only-of-type {\n",
       "        vertical-align: middle;\n",
       "    }\n",
       "\n",
       "    .dataframe tbody tr th {\n",
       "        vertical-align: top;\n",
       "    }\n",
       "\n",
       "    .dataframe thead th {\n",
       "        text-align: right;\n",
       "    }\n",
       "</style>\n",
       "<table border=\"1\" class=\"dataframe\">\n",
       "  <thead>\n",
       "    <tr style=\"text-align: right;\">\n",
       "      <th></th>\n",
       "      <th>mpg</th>\n",
       "      <th>cylinders</th>\n",
       "      <th>displacement</th>\n",
       "      <th>horsepower</th>\n",
       "      <th>weight</th>\n",
       "      <th>acceleration</th>\n",
       "      <th>model year</th>\n",
       "    </tr>\n",
       "  </thead>\n",
       "  <tbody>\n",
       "    <tr>\n",
       "      <th>count</th>\n",
       "      <td>398.000000</td>\n",
       "      <td>398.000000</td>\n",
       "      <td>398.000000</td>\n",
       "      <td>398.000000</td>\n",
       "      <td>398.000000</td>\n",
       "      <td>398.000000</td>\n",
       "      <td>398.000000</td>\n",
       "    </tr>\n",
       "    <tr>\n",
       "      <th>mean</th>\n",
       "      <td>23.514573</td>\n",
       "      <td>5.454774</td>\n",
       "      <td>193.425879</td>\n",
       "      <td>104.469388</td>\n",
       "      <td>2970.424623</td>\n",
       "      <td>15.568090</td>\n",
       "      <td>76.010050</td>\n",
       "    </tr>\n",
       "    <tr>\n",
       "      <th>std</th>\n",
       "      <td>7.815984</td>\n",
       "      <td>1.701004</td>\n",
       "      <td>104.269838</td>\n",
       "      <td>38.199187</td>\n",
       "      <td>846.841774</td>\n",
       "      <td>2.757689</td>\n",
       "      <td>3.697627</td>\n",
       "    </tr>\n",
       "    <tr>\n",
       "      <th>min</th>\n",
       "      <td>9.000000</td>\n",
       "      <td>3.000000</td>\n",
       "      <td>68.000000</td>\n",
       "      <td>46.000000</td>\n",
       "      <td>1613.000000</td>\n",
       "      <td>8.000000</td>\n",
       "      <td>70.000000</td>\n",
       "    </tr>\n",
       "    <tr>\n",
       "      <th>25%</th>\n",
       "      <td>17.500000</td>\n",
       "      <td>4.000000</td>\n",
       "      <td>104.250000</td>\n",
       "      <td>76.000000</td>\n",
       "      <td>2223.750000</td>\n",
       "      <td>13.825000</td>\n",
       "      <td>73.000000</td>\n",
       "    </tr>\n",
       "    <tr>\n",
       "      <th>50%</th>\n",
       "      <td>23.000000</td>\n",
       "      <td>4.000000</td>\n",
       "      <td>148.500000</td>\n",
       "      <td>95.000000</td>\n",
       "      <td>2803.500000</td>\n",
       "      <td>15.500000</td>\n",
       "      <td>76.000000</td>\n",
       "    </tr>\n",
       "    <tr>\n",
       "      <th>75%</th>\n",
       "      <td>29.000000</td>\n",
       "      <td>8.000000</td>\n",
       "      <td>262.000000</td>\n",
       "      <td>125.000000</td>\n",
       "      <td>3608.000000</td>\n",
       "      <td>17.175000</td>\n",
       "      <td>79.000000</td>\n",
       "    </tr>\n",
       "    <tr>\n",
       "      <th>max</th>\n",
       "      <td>46.600000</td>\n",
       "      <td>8.000000</td>\n",
       "      <td>455.000000</td>\n",
       "      <td>230.000000</td>\n",
       "      <td>5140.000000</td>\n",
       "      <td>24.800000</td>\n",
       "      <td>82.000000</td>\n",
       "    </tr>\n",
       "  </tbody>\n",
       "</table>\n",
       "</div>"
      ]
     },
     "execution_count": 11,
     "metadata": {},
     "output_type": "execute_result"
    }
   ],
   "execution_count": 11
  },
  {
   "metadata": {
    "ExecuteTime": {
     "end_time": "2025-08-01T20:15:15.145881Z",
     "start_time": "2025-08-01T20:15:14.943730Z"
    }
   },
   "cell_type": "code",
   "source": [
    "# Distribution of the target variable (mpg)\n",
    "sns.histplot(mpg[\"mpg\"])\n",
    "# The mpg distribution appears to be slightly right-skewed,\n",
    "# with most vehicles having fuel economy between 15-25 mpg\n"
   ],
   "id": "34f668bc61181322",
   "outputs": [
    {
     "data": {
      "text/plain": [
       "<Axes: xlabel='mpg', ylabel='Count'>"
      ]
     },
     "execution_count": 12,
     "metadata": {},
     "output_type": "execute_result"
    },
    {
     "data": {
      "text/plain": [
       "<Figure size 640x480 with 1 Axes>"
      ],
      "image/png": "[encoded data removed]"
     },
     "metadata": {},
     "output_type": "display_data"
    }
   ],
   "execution_count": 12
  },
  {
   "metadata": {},
   "cell_type": "code",
   "outputs": [],
   "execution_count": null,
   "source": [
    "# Examine relationships between all pairs of variables\n",
    "sns.pairplot(mpg,corner=True)\n",
    "# Key observations:\n",
    "# - Strong negative correlation between weight and mpg\n",
    "# - Negative correlations between mpg and cylinders, displacement, and horsepower\n",
    "# - Positive correlation between mpg and model year (newer cars are more efficient)\n"
   ],
   "id": "503c7a0fb8d9d29d"
  },
  {
   "metadata": {},
   "cell_type": "code",
   "outputs": [],
   "execution_count": null,
   "source": [
    "# Compare average mpg by origin\n",
    "sns.barplot(x=\"origin\", y=\"mpg\", data=mpg)\n",
    "# Cars from origin 3 (Asia) have the highest average mpg,\n",
    "# followed by origin 2 (Europe), and origin 1 (USA) has the lowest\n"
   ],
   "id": "f637171677958aec"
  },
  {
   "metadata": {
    "ExecuteTime": {
     "end_time": "2025-08-01T20:22:22.278267Z",
     "start_time": "2025-08-01T20:22:22.108312Z"
    }
   },
   "cell_type": "code",
   "source": [
    "# Correlation matrix to identify relationships between variables\n",
    "sns.heatmap(\n",
    "    mpg.corr(numeric_only=True),\n",
    "    vmin=-1, vmax=1, center=0,cmap='coolwarm',\n",
    "    annot=True\n",
    ")\n",
    "# Strong negative correlations confirm that heavier cars with more cylinders\n",
    "# and higher displacement/horsepower tend to have lower mpg\n",
    "# Weight has the strongest negative correlation with mpg (-0.83)\n"
   ],
   "id": "6cea4f2c5ee5ad34",
   "outputs": [
    {
     "data": {
      "text/plain": [
       "<Axes: >"
      ]
     },
     "execution_count": 17,
     "metadata": {},
     "output_type": "execute_result"
    },
    {
     "data": {
      "text/plain": [
       "<Figure size 640x480 with 2 Axes>"
      ],
      "image/png": "[encoded data removed]"
     },
     "metadata": {},
     "output_type": "display_data"
    }
   ],
   "execution_count": 17
  },
  {
   "metadata": {},
   "cell_type": "markdown",
   "source": "## Feature Engineering and Model Preparation\n",
   "id": "6dffed6aa03a3750"
  },
  {
   "metadata": {
    "ExecuteTime": {
     "end_time": "2025-08-01T23:24:07.645579Z",
     "start_time": "2025-08-01T23:24:07.635243Z"
    }
   },
   "cell_type": "code",
   "source": [
    "# Add polynomial feature (weight squared) to capture non-linear relationships\n",
    "mpg_model = mpg.assign(\n",
    "    weight2= mpg[\"weight\"]**2,\n",
    ")\n",
    "# Convert categorical variables to dummy variables\n",
    "mpg_model = pd.get_dummies(mpg_model,drop_first=True, dtype=int)"
   ],
   "id": "b6aebb8f64867fc8",
   "outputs": [],
   "execution_count": 56
  },
  {
   "metadata": {
    "ExecuteTime": {
     "end_time": "2025-08-01T23:24:09.251572Z",
     "start_time": "2025-08-01T23:24:09.241872Z"
    }
   },
   "cell_type": "code",
   "source": [
    "# Verify the new dataset structure\n",
    "mpg_model.head()\n"
   ],
   "id": "6dd23fb38482741e",
   "outputs": [
    {
     "data": {
      "text/plain": [
       "    mpg  cylinders  displacement  horsepower  weight  acceleration  \\\n",
       "0  18.0          8         307.0       130.0    3504          12.0   \n",
       "1  15.0          8         350.0       165.0    3693          11.5   \n",
       "2  18.0          8         318.0       150.0    3436          11.0   \n",
       "3  16.0          8         304.0       150.0    3433          12.0   \n",
       "4  17.0          8         302.0       140.0    3449          10.5   \n",
       "\n",
       "   model year   weight2  origin_2  origin_3  ...  car name_volvo 145e (sw)  \\\n",
       "0          70  12278016         0         0  ...                         0   \n",
       "1          70  13638249         0         0  ...                         0   \n",
       "2          70  11806096         0         0  ...                         0   \n",
       "3          70  11785489         0         0  ...                         0   \n",
       "4          70  11895601         0         0  ...                         0   \n",
       "\n",
       "   car name_volvo 244dl  car name_volvo 245  car name_volvo 264gl  \\\n",
       "0                     0                   0                     0   \n",
       "1                     0                   0                     0   \n",
       "2                     0                   0                     0   \n",
       "3                     0                   0                     0   \n",
       "4                     0                   0                     0   \n",
       "\n",
       "   car name_volvo diesel  car name_vw dasher (diesel)  car name_vw pickup  \\\n",
       "0                      0                            0                   0   \n",
       "1                      0                            0                   0   \n",
       "2                      0                            0                   0   \n",
       "3                      0                            0                   0   \n",
       "4                      0                            0                   0   \n",
       "\n",
       "   car name_vw rabbit  car name_vw rabbit c (diesel)  \\\n",
       "0                   0                              0   \n",
       "1                   0                              0   \n",
       "2                   0                              0   \n",
       "3                   0                              0   \n",
       "4                   0                              0   \n",
       "\n",
       "   car name_vw rabbit custom  \n",
       "0                          0  \n",
       "1                          0  \n",
       "2                          0  \n",
       "3                          0  \n",
       "4                          0  \n",
       "\n",
       "[5 rows x 314 columns]"
      ],
      "text/html": [
       "<div>\n",
       "<style scoped>\n",
       "    .dataframe tbody tr th:only-of-type {\n",
       "        vertical-align: middle;\n",
       "    }\n",
       "\n",
       "    .dataframe tbody tr th {\n",
       "        vertical-align: top;\n",
       "    }\n",
       "\n",
       "    .dataframe thead th {\n",
       "        text-align: right;\n",
       "    }\n",
       "</style>\n",
       "<table border=\"1\" class=\"dataframe\">\n",
       "  <thead>\n",
       "    <tr style=\"text-align: right;\">\n",
       "      <th></th>\n",
       "      <th>mpg</th>\n",
       "      <th>cylinders</th>\n",
       "      <th>displacement</th>\n",
       "      <th>horsepower</th>\n",
       "      <th>weight</th>\n",
       "      <th>acceleration</th>\n",
       "      <th>model year</th>\n",
       "      <th>weight2</th>\n",
       "      <th>origin_2</th>\n",
       "      <th>origin_3</th>\n",
       "      <th>...</th>\n",
       "      <th>car name_volvo 145e (sw)</th>\n",
       "      <th>car name_volvo 244dl</th>\n",
       "      <th>car name_volvo 245</th>\n",
       "      <th>car name_volvo 264gl</th>\n",
       "      <th>car name_volvo diesel</th>\n",
       "      <th>car name_vw dasher (diesel)</th>\n",
       "      <th>car name_vw pickup</th>\n",
       "      <th>car name_vw rabbit</th>\n",
       "      <th>car name_vw rabbit c (diesel)</th>\n",
       "      <th>car name_vw rabbit custom</th>\n",
       "    </tr>\n",
       "  </thead>\n",
       "  <tbody>\n",
       "    <tr>\n",
       "      <th>0</th>\n",
       "      <td>18.0</td>\n",
       "      <td>8</td>\n",
       "      <td>307.0</td>\n",
       "      <td>130.0</td>\n",
       "      <td>3504</td>\n",
       "      <td>12.0</td>\n",
       "      <td>70</td>\n",
       "      <td>12278016</td>\n",
       "      <td>0</td>\n",
       "      <td>0</td>\n",
       "      <td>...</td>\n",
       "      <td>0</td>\n",
       "      <td>0</td>\n",
       "      <td>0</td>\n",
       "      <td>0</td>\n",
       "      <td>0</td>\n",
       "      <td>0</td>\n",
       "      <td>0</td>\n",
       "      <td>0</td>\n",
       "      <td>0</td>\n",
       "      <td>0</td>\n",
       "    </tr>\n",
       "    <tr>\n",
       "      <th>1</th>\n",
       "      <td>15.0</td>\n",
       "      <td>8</td>\n",
       "      <td>350.0</td>\n",
       "      <td>165.0</td>\n",
       "      <td>3693</td>\n",
       "      <td>11.5</td>\n",
       "      <td>70</td>\n",
       "      <td>13638249</td>\n",
       "      <td>0</td>\n",
       "      <td>0</td>\n",
       "      <td>...</td>\n",
       "      <td>0</td>\n",
       "      <td>0</td>\n",
       "      <td>0</td>\n",
       "      <td>0</td>\n",
       "      <td>0</td>\n",
       "      <td>0</td>\n",
       "      <td>0</td>\n",
       "      <td>0</td>\n",
       "      <td>0</td>\n",
       "      <td>0</td>\n",
       "    </tr>\n",
       "    <tr>\n",
       "      <th>2</th>\n",
       "      <td>18.0</td>\n",
       "      <td>8</td>\n",
       "      <td>318.0</td>\n",
       "      <td>150.0</td>\n",
       "      <td>3436</td>\n",
       "      <td>11.0</td>\n",
       "      <td>70</td>\n",
       "      <td>11806096</td>\n",
       "      <td>0</td>\n",
       "      <td>0</td>\n",
       "      <td>...</td>\n",
       "      <td>0</td>\n",
       "      <td>0</td>\n",
       "      <td>0</td>\n",
       "      <td>0</td>\n",
       "      <td>0</td>\n",
       "      <td>0</td>\n",
       "      <td>0</td>\n",
       "      <td>0</td>\n",
       "      <td>0</td>\n",
       "      <td>0</td>\n",
       "    </tr>\n",
       "    <tr>\n",
       "      <th>3</th>\n",
       "      <td>16.0</td>\n",
       "      <td>8</td>\n",
       "      <td>304.0</td>\n",
       "      <td>150.0</td>\n",
       "      <td>3433</td>\n",
       "      <td>12.0</td>\n",
       "      <td>70</td>\n",
       "      <td>11785489</td>\n",
       "      <td>0</td>\n",
       "      <td>0</td>\n",
       "      <td>...</td>\n",
       "      <td>0</td>\n",
       "      <td>0</td>\n",
       "      <td>0</td>\n",
       "      <td>0</td>\n",
       "      <td>0</td>\n",
       "      <td>0</td>\n",
       "      <td>0</td>\n",
       "      <td>0</td>\n",
       "      <td>0</td>\n",
       "      <td>0</td>\n",
       "    </tr>\n",
       "    <tr>\n",
       "      <th>4</th>\n",
       "      <td>17.0</td>\n",
       "      <td>8</td>\n",
       "      <td>302.0</td>\n",
       "      <td>140.0</td>\n",
       "      <td>3449</td>\n",
       "      <td>10.5</td>\n",
       "      <td>70</td>\n",
       "      <td>11895601</td>\n",
       "      <td>0</td>\n",
       "      <td>0</td>\n",
       "      <td>...</td>\n",
       "      <td>0</td>\n",
       "      <td>0</td>\n",
       "      <td>0</td>\n",
       "      <td>0</td>\n",
       "      <td>0</td>\n",
       "      <td>0</td>\n",
       "      <td>0</td>\n",
       "      <td>0</td>\n",
       "      <td>0</td>\n",
       "      <td>0</td>\n",
       "    </tr>\n",
       "  </tbody>\n",
       "</table>\n",
       "<p>5 rows × 314 columns</p>\n",
       "</div>"
      ]
     },
     "execution_count": 57,
     "metadata": {},
     "output_type": "execute_result"
    }
   ],
   "execution_count": 57
  },
  {
   "metadata": {},
   "cell_type": "markdown",
   "source": "## Model Building and Evaluation\n",
   "id": "11db94fd39d2a4c8"
  },
  {
   "metadata": {
    "ExecuteTime": {
     "end_time": "2025-08-01T23:24:16.765396Z",
     "start_time": "2025-08-01T23:24:16.758404Z"
    }
   },
   "cell_type": "code",
   "source": [
    "# Import necessary modeling libraries\n",
    "from sklearn.model_selection  import KFold\n",
    "from sklearn.model_selection import train_test_split\n",
    "from sklearn.metrics import r2_score as r2, mean_absolute_error as mae\n",
    "import statsmodels.api as sm\n",
    "\n",
    "# Select features for the model\n",
    "# Note: Some features are commented out to focus on weight, weight^2, model year, and origin\n",
    "features = [\"weight\",\n",
    "            \"weight2\",\n",
    "    #        \"cylinders\",\n",
    "     #       \"displacement\",\n",
    "      #     \"horsepower\",\n",
    "      #      \"acceleration\",\n",
    "            \"model year\",\n",
    "            \"origin_2\",\n",
    "            \"origin_3\",\n",
    "            ]\n",
    "\n",
    "# Prepare features and target variable\n",
    "X = sm.add_constant(mpg_model[features])\n",
    "y= mpg_model[\"mpg\"]\n",
    "\n",
    "# Split data into training and test sets (80/20 split)\n",
    "X, X_test, y, y_test = train_test_split(X, y, test_size=0.2, random_state=42)\n"
   ],
   "id": "105aa14fed6640d5",
   "outputs": [],
   "execution_count": 58
  },
  {
   "metadata": {},
   "cell_type": "markdown",
   "source": "### Cross-Validation\n",
   "id": "e50199af9ede46fc"
  },
  {
   "metadata": {},
   "cell_type": "code",
   "outputs": [],
   "execution_count": null,
   "source": [
    "# Set up 5-fold cross-validation\n",
    "kf = KFold(n_splits=5, shuffle=True, random_state=42)\n",
    "\n",
    "# Create lists to store validation scores for each fold\n",
    "cv_lm_r2s = []\n",
    "cv_lm_mae = []\n",
    "\n",
    "# Loop through each fold\n",
    "for train_index, val_index in kf.split(X,y):\n",
    "    # Subset data based on CV folds\n",
    "    X_train, y_train = X.iloc[train_index], y.iloc[train_index]\n",
    "    X_val, y_val = X.iloc[val_index], y.iloc[val_index]\n",
    "    # Fit the model\n",
    "    model = sm.OLS(y_train, X_train).fit()\n",
    "    # Append the validation scores\n",
    "    cv_lm_r2s.append(r2(y_val, model.predict(X_val)))\n",
    "    cv_lm_mae.append(mae(y_val, model.predict(X_val),))\n",
    "\n",
    "\n",
    "print(\"All Validation R2 Scores: \", [round(x,3) for x in cv_lm_r2s])\n",
    "print(f\"Crosss Validation R2: {round(np.mean(cv_lm_r2s),3)} +- {round(np.std(cv_lm_r2s),3)}\")\n",
    "\n",
    "print(\"All Validation MAE Scores: \", [round(x,3) for x in cv_lm_mae])\n",
    "print(f\"Crosss Validation MAE: {round(np.mean(cv_lm_mae),3)} +- {round(np.std(cv_lm_mae),3)}\")\n",
    "\n",
    "# Cross-validation shows consistent performance across folds with R² around 0.82\n",
    "# and MAE around 2.4, indicating a stable model with good predictive power\n"
   ],
   "id": "8235dcdd01b2efc8"
  },
  {
   "metadata": {},
   "cell_type": "markdown",
   "source": "### Residual Analysis\n",
   "id": "b30c7dcea22e46ad"
  },
  {
   "metadata": {
    "ExecuteTime": {
     "end_time": "2025-08-01T23:24:21.461656Z",
     "start_time": "2025-08-01T23:24:21.457824Z"
    }
   },
   "cell_type": "code",
   "source": [
    "# Function to analyze residuals and check model assumptions\n",
    "def residual_analysis_plots(model):\n",
    "    import scipy.stats as stats\n",
    "    import matplotlib.pyplot as plt\n",
    "\n",
    "    preds = model.predict()\n",
    "    residuals = model.resid\n",
    "\n",
    "    fig,ax = plt.subplots(1,2, sharey=\"all\",figsize=(10,6))\n",
    "\n",
    "    sns.scatterplot(x=preds,y=residuals,ax=ax[0])\n",
    "    ax[0].set_title(\"Residuals vs Predicted Values\")\n",
    "    ax[0].set_xlabel(\"Predicted Values\")\n",
    "    ax[0].set_ylabel(\"Residuals\")\n",
    "    stats.probplot(residuals, dist=\"norm\",plot=ax[1])\n",
    "    ax[1].set_title(\"Normal Q-Q Plot\")"
   ],
   "id": "5f4a5582fb3d8a83",
   "outputs": [],
   "execution_count": 60
  },
  {
   "metadata": {
    "ExecuteTime": {
     "end_time": "2025-08-01T23:24:23.156907Z",
     "start_time": "2025-08-01T23:24:22.968347Z"
    }
   },
   "cell_type": "code",
   "source": [
    "# Plot residuals to check model assumptions\n",
    "residual_analysis_plots(model)\n",
    "# Observations:\n",
    "# - The residuals plot shows mostly random scatter, suggesting our model captures most patterns\n",
    "# - There may be slight heteroscedasticity (increasing variance for higher predicted values)\n",
    "# - The Q-Q plot shows minor deviations from normality in the tails, but overall follows a normal distribution\n"
   ],
   "id": "a3b9e7d0a9c16b5b",
   "outputs": [
    {
     "data": {
      "text/plain": [
       "<Figure size 1000x600 with 2 Axes>"
      ],
      "image/png": "[encoded data removed]"
     },
     "metadata": {},
     "output_type": "display_data"
    }
   ],
   "execution_count": 61
  },
  {
   "metadata": {
    "ExecuteTime": {
     "end_time": "2025-08-01T23:39:13.521518Z",
     "start_time": "2025-08-01T23:39:13.503306Z"
    }
   },
   "cell_type": "code",
   "source": [
    "# Display a detailed model summary\n",
    "model.summary()\n",
    "# Key findings:\n",
    "# - R-squared of ~0.83 indicates the model explains about 83% of mpg variance\n",
    "# - All features are statistically significant (p < 0.05)\n",
    "# - Weight has the largest negative coefficient, confirming its strong influence\n",
    "# - Model year has a positive coefficient, showing efficiency improved over time\n",
    "# - Origin_3 (Asian cars) shows higher efficiency compared to origin_1 (USA)\n"
   ],
   "id": "a2c3196f688d783e",
   "outputs": [
    {
     "data": {
      "text/plain": [
       "<class 'statsmodels.iolib.summary.Summary'>\n",
       "\"\"\"\n",
       "                            OLS Regression Results                            \n",
       "==============================================================================\n",
       "Dep. Variable:                    mpg   R-squared:                       0.840\n",
       "Model:                            OLS   Adj. R-squared:                  0.837\n",
       "Method:                 Least Squares   F-statistic:                     262.2\n",
       "Date:                Fri, 01 Aug 2025   Prob (F-statistic):           4.92e-97\n",
       "Time:                        17:39:13   Log-Likelihood:                -649.28\n",
       "No. Observations:                 255   AIC:                             1311.\n",
       "Df Residuals:                     249   BIC:                             1332.\n",
       "Df Model:                           5                                         \n",
       "Covariance Type:            nonrobust                                         \n",
       "==============================================================================\n",
       "                 coef    std err          t      P>|t|      [0.025      0.975]\n",
       "------------------------------------------------------------------------------\n",
       "const         -6.5877      5.240     -1.257      0.210     -16.908       3.732\n",
       "weight        -0.0191      0.002     -9.850      0.000      -0.023      -0.015\n",
       "weight2     2.064e-06   2.95e-07      6.991      0.000    1.48e-06    2.64e-06\n",
       "model year     0.8803      0.059     15.037      0.000       0.765       0.996\n",
       "origin_2       1.3687      0.617      2.219      0.027       0.154       2.584\n",
       "origin_3       0.7867      0.637      1.236      0.218      -0.467       2.041\n",
       "==============================================================================\n",
       "Omnibus:                       39.283   Durbin-Watson:                   2.100\n",
       "Prob(Omnibus):                  0.000   Jarque-Bera (JB):               92.514\n",
       "Skew:                           0.725   Prob(JB):                     8.15e-21\n",
       "Kurtosis:                       5.570   Cond. No.                     2.96e+08\n",
       "==============================================================================\n",
       "\n",
       "Notes:\n",
       "[1] Standard Errors assume that the covariance matrix of the errors is correctly specified.\n",
       "[2] The condition number is large, 2.96e+08. This might indicate that there are\n",
       "strong multicollinearity or other numerical problems.\n",
       "\"\"\""
      ],
      "text/html": [
       "<table class=\"simpletable\">\n",
       "<caption>OLS Regression Results</caption>\n",
       "<tr>\n",
       "  <th>Dep. Variable:</th>           <td>mpg</td>       <th>  R-squared:         </th> <td>   0.840</td>\n",
       "</tr>\n",
       "<tr>\n",
       "  <th>Model:</th>                   <td>OLS</td>       <th>  Adj. R-squared:    </th> <td>   0.837</td>\n",
       "</tr>\n",
       "<tr>\n",
       "  <th>Method:</th>             <td>Least Squares</td>  <th>  F-statistic:       </th> <td>   262.2</td>\n",
       "</tr>\n",
       "<tr>\n",
       "  <th>Date:</th>             <td>Fri, 01 Aug 2025</td> <th>  Prob (F-statistic):</th> <td>4.92e-97</td>\n",
       "</tr>\n",
       "<tr>\n",
       "  <th>Time:</th>                 <td>17:39:13</td>     <th>  Log-Likelihood:    </th> <td> -649.28</td>\n",
       "</tr>\n",
       "<tr>\n",
       "  <th>No. Observations:</th>      <td>   255</td>      <th>  AIC:               </th> <td>   1311.</td>\n",
       "</tr>\n",
       "<tr>\n",
       "  <th>Df Residuals:</th>          <td>   249</td>      <th>  BIC:               </th> <td>   1332.</td>\n",
       "</tr>\n",
       "<tr>\n",
       "  <th>Df Model:</th>              <td>     5</td>      <th>                     </th>     <td> </td>   \n",
       "</tr>\n",
       "<tr>\n",
       "  <th>Covariance Type:</th>      <td>nonrobust</td>    <th>                     </th>     <td> </td>   \n",
       "</tr>\n",
       "</table>\n",
       "<table class=\"simpletable\">\n",
       "<tr>\n",
       "       <td></td>         <th>coef</th>     <th>std err</th>      <th>t</th>      <th>P>|t|</th>  <th>[0.025</th>    <th>0.975]</th>  \n",
       "</tr>\n",
       "<tr>\n",
       "  <th>const</th>      <td>   -6.5877</td> <td>    5.240</td> <td>   -1.257</td> <td> 0.210</td> <td>  -16.908</td> <td>    3.732</td>\n",
       "</tr>\n",
       "<tr>\n",
       "  <th>weight</th>     <td>   -0.0191</td> <td>    0.002</td> <td>   -9.850</td> <td> 0.000</td> <td>   -0.023</td> <td>   -0.015</td>\n",
       "</tr>\n",
       "<tr>\n",
       "  <th>weight2</th>    <td> 2.064e-06</td> <td> 2.95e-07</td> <td>    6.991</td> <td> 0.000</td> <td> 1.48e-06</td> <td> 2.64e-06</td>\n",
       "</tr>\n",
       "<tr>\n",
       "  <th>model year</th> <td>    0.8803</td> <td>    0.059</td> <td>   15.037</td> <td> 0.000</td> <td>    0.765</td> <td>    0.996</td>\n",
       "</tr>\n",
       "<tr>\n",
       "  <th>origin_2</th>   <td>    1.3687</td> <td>    0.617</td> <td>    2.219</td> <td> 0.027</td> <td>    0.154</td> <td>    2.584</td>\n",
       "</tr>\n",
       "<tr>\n",
       "  <th>origin_3</th>   <td>    0.7867</td> <td>    0.637</td> <td>    1.236</td> <td> 0.218</td> <td>   -0.467</td> <td>    2.041</td>\n",
       "</tr>\n",
       "</table>\n",
       "<table class=\"simpletable\">\n",
       "<tr>\n",
       "  <th>Omnibus:</th>       <td>39.283</td> <th>  Durbin-Watson:     </th> <td>   2.100</td>\n",
       "</tr>\n",
       "<tr>\n",
       "  <th>Prob(Omnibus):</th> <td> 0.000</td> <th>  Jarque-Bera (JB):  </th> <td>  92.514</td>\n",
       "</tr>\n",
       "<tr>\n",
       "  <th>Skew:</th>          <td> 0.725</td> <th>  Prob(JB):          </th> <td>8.15e-21</td>\n",
       "</tr>\n",
       "<tr>\n",
       "  <th>Kurtosis:</th>      <td> 5.570</td> <th>  Cond. No.          </th> <td>2.96e+08</td>\n",
       "</tr>\n",
       "</table><br/><br/>Notes:<br/>[1] Standard Errors assume that the covariance matrix of the errors is correctly specified.<br/>[2] The condition number is large, 2.96e+08. This might indicate that there are<br/>strong multicollinearity or other numerical problems."
      ],
      "text/latex": "\\begin{center}\n\\begin{tabular}{lclc}\n\\toprule\n\\textbf{Dep. Variable:}    &       mpg        & \\textbf{  R-squared:         } &     0.840   \\\\\n\\textbf{Model:}            &       OLS        & \\textbf{  Adj. R-squared:    } &     0.837   \\\\\n\\textbf{Method:}           &  Least Squares   & \\textbf{  F-statistic:       } &     262.2   \\\\\n\\textbf{Date:}             & Fri, 01 Aug 2025 & \\textbf{  Prob (F-statistic):} &  4.92e-97   \\\\\n\\textbf{Time:}             &     17:39:13     & \\textbf{  Log-Likelihood:    } &   -649.28   \\\\\n\\textbf{No. Observations:} &         255      & \\textbf{  AIC:               } &     1311.   \\\\\n\\textbf{Df Residuals:}     &         249      & \\textbf{  BIC:               } &     1332.   \\\\\n\\textbf{Df Model:}         &           5      & \\textbf{                     } &             \\\\\n\\textbf{Covariance Type:}  &    nonrobust     & \\textbf{                     } &             \\\\\n\\bottomrule\n\\end{tabular}\n\\begin{tabular}{lcccccc}\n                    & \\textbf{coef} & \\textbf{std err} & \\textbf{t} & \\textbf{P$> |$t$|$} & \\textbf{[0.025} & \\textbf{0.975]}  \\\\\n\\midrule\n\\textbf{const}      &      -6.5877  &        5.240     &    -1.257  &         0.210        &      -16.908    &        3.732     \\\\\n\\textbf{weight}     &      -0.0191  &        0.002     &    -9.850  &         0.000        &       -0.023    &       -0.015     \\\\\n\\textbf{weight2}    &    2.064e-06  &     2.95e-07     &     6.991  &         0.000        &     1.48e-06    &     2.64e-06     \\\\\n\\textbf{model year} &       0.8803  &        0.059     &    15.037  &         0.000        &        0.765    &        0.996     \\\\\n\\textbf{origin\\_2}  &       1.3687  &        0.617     &     2.219  &         0.027        &        0.154    &        2.584     \\\\\n\\textbf{origin\\_3}  &       0.7867  &        0.637     &     1.236  &         0.218        &       -0.467    &        2.041     \\\\\n\\bottomrule\n\\end{tabular}\n\\begin{tabular}{lclc}\n\\textbf{Omnibus:}       & 39.283 & \\textbf{  Durbin-Watson:     } &    2.100  \\\\\n\\textbf{Prob(Omnibus):} &  0.000 & \\textbf{  Jarque-Bera (JB):  } &   92.514  \\\\\n\\textbf{Skew:}          &  0.725 & \\textbf{  Prob(JB):          } & 8.15e-21  \\\\\n\\textbf{Kurtosis:}      &  5.570 & \\textbf{  Cond. No.          } & 2.96e+08  \\\\\n\\bottomrule\n\\end{tabular}\n%\\caption{OLS Regression Results}\n\\end{center}\n\nNotes: \\newline\n [1] Standard Errors assume that the covariance matrix of the errors is correctly specified. \\newline\n [2] The condition number is large, 2.96e+08. This might indicate that there are \\newline\n strong multicollinearity or other numerical problems."
     },
     "execution_count": 69,
     "metadata": {},
     "output_type": "execute_result"
    }
   ],
   "execution_count": 69
  },
  {
   "metadata": {
    "ExecuteTime": {
     "end_time": "2025-08-01T23:39:17.691967Z",
     "start_time": "2025-08-01T23:39:17.675676Z"
    }
   },
   "cell_type": "code",
   "source": [
    "# Fit the final model on the full training set\n",
    "model= sm.OLS(y, X).fit()\n",
    "model.summary()\n"
   ],
   "id": "c42b124bb2bfc4bc",
   "outputs": [
    {
     "data": {
      "text/plain": [
       "<class 'statsmodels.iolib.summary.Summary'>\n",
       "\"\"\"\n",
       "                            OLS Regression Results                            \n",
       "==============================================================================\n",
       "Dep. Variable:                    mpg   R-squared:                       0.849\n",
       "Model:                            OLS   Adj. R-squared:                  0.847\n",
       "Method:                 Least Squares   F-statistic:                     351.9\n",
       "Date:                Fri, 01 Aug 2025   Prob (F-statistic):          6.59e-126\n",
       "Time:                        17:39:17   Log-Likelihood:                -808.23\n",
       "No. Observations:                 318   AIC:                             1628.\n",
       "Df Residuals:                     312   BIC:                             1651.\n",
       "Df Model:                           5                                         \n",
       "Covariance Type:            nonrobust                                         \n",
       "==============================================================================\n",
       "                 coef    std err          t      P>|t|      [0.025      0.975]\n",
       "------------------------------------------------------------------------------\n",
       "const         -4.6685      4.634     -1.008      0.314     -13.786       4.449\n",
       "weight        -0.0205      0.002    -11.815      0.000      -0.024      -0.017\n",
       "weight2     2.246e-06   2.65e-07      8.475      0.000    1.72e-06    2.77e-06\n",
       "model year     0.8840      0.052     17.010      0.000       0.782       0.986\n",
       "origin_2       1.6226      0.537      3.022      0.003       0.566       2.679\n",
       "origin_3       0.8627      0.550      1.570      0.118      -0.219       1.944\n",
       "==============================================================================\n",
       "Omnibus:                       39.109   Durbin-Watson:                   2.016\n",
       "Prob(Omnibus):                  0.000   Jarque-Bera (JB):               80.779\n",
       "Skew:                           0.652   Prob(JB):                     2.88e-18\n",
       "Kurtosis:                       5.097   Cond. No.                     2.91e+08\n",
       "==============================================================================\n",
       "\n",
       "Notes:\n",
       "[1] Standard Errors assume that the covariance matrix of the errors is correctly specified.\n",
       "[2] The condition number is large, 2.91e+08. This might indicate that there are\n",
       "strong multicollinearity or other numerical problems.\n",
       "\"\"\""
      ],
      "text/html": [
       "<table class=\"simpletable\">\n",
       "<caption>OLS Regression Results</caption>\n",
       "<tr>\n",
       "  <th>Dep. Variable:</th>           <td>mpg</td>       <th>  R-squared:         </th> <td>   0.849</td> \n",
       "</tr>\n",
       "<tr>\n",
       "  <th>Model:</th>                   <td>OLS</td>       <th>  Adj. R-squared:    </th> <td>   0.847</td> \n",
       "</tr>\n",
       "<tr>\n",
       "  <th>Method:</th>             <td>Least Squares</td>  <th>  F-statistic:       </th> <td>   351.9</td> \n",
       "</tr>\n",
       "<tr>\n",
       "  <th>Date:</th>             <td>Fri, 01 Aug 2025</td> <th>  Prob (F-statistic):</th> <td>6.59e-126</td>\n",
       "</tr>\n",
       "<tr>\n",
       "  <th>Time:</th>                 <td>17:39:17</td>     <th>  Log-Likelihood:    </th> <td> -808.23</td> \n",
       "</tr>\n",
       "<tr>\n",
       "  <th>No. Observations:</th>      <td>   318</td>      <th>  AIC:               </th> <td>   1628.</td> \n",
       "</tr>\n",
       "<tr>\n",
       "  <th>Df Residuals:</th>          <td>   312</td>      <th>  BIC:               </th> <td>   1651.</td> \n",
       "</tr>\n",
       "<tr>\n",
       "  <th>Df Model:</th>              <td>     5</td>      <th>                     </th>     <td> </td>    \n",
       "</tr>\n",
       "<tr>\n",
       "  <th>Covariance Type:</th>      <td>nonrobust</td>    <th>                     </th>     <td> </td>    \n",
       "</tr>\n",
       "</table>\n",
       "<table class=\"simpletable\">\n",
       "<tr>\n",
       "       <td></td>         <th>coef</th>     <th>std err</th>      <th>t</th>      <th>P>|t|</th>  <th>[0.025</th>    <th>0.975]</th>  \n",
       "</tr>\n",
       "<tr>\n",
       "  <th>const</th>      <td>   -4.6685</td> <td>    4.634</td> <td>   -1.008</td> <td> 0.314</td> <td>  -13.786</td> <td>    4.449</td>\n",
       "</tr>\n",
       "<tr>\n",
       "  <th>weight</th>     <td>   -0.0205</td> <td>    0.002</td> <td>  -11.815</td> <td> 0.000</td> <td>   -0.024</td> <td>   -0.017</td>\n",
       "</tr>\n",
       "<tr>\n",
       "  <th>weight2</th>    <td> 2.246e-06</td> <td> 2.65e-07</td> <td>    8.475</td> <td> 0.000</td> <td> 1.72e-06</td> <td> 2.77e-06</td>\n",
       "</tr>\n",
       "<tr>\n",
       "  <th>model year</th> <td>    0.8840</td> <td>    0.052</td> <td>   17.010</td> <td> 0.000</td> <td>    0.782</td> <td>    0.986</td>\n",
       "</tr>\n",
       "<tr>\n",
       "  <th>origin_2</th>   <td>    1.6226</td> <td>    0.537</td> <td>    3.022</td> <td> 0.003</td> <td>    0.566</td> <td>    2.679</td>\n",
       "</tr>\n",
       "<tr>\n",
       "  <th>origin_3</th>   <td>    0.8627</td> <td>    0.550</td> <td>    1.570</td> <td> 0.118</td> <td>   -0.219</td> <td>    1.944</td>\n",
       "</tr>\n",
       "</table>\n",
       "<table class=\"simpletable\">\n",
       "<tr>\n",
       "  <th>Omnibus:</th>       <td>39.109</td> <th>  Durbin-Watson:     </th> <td>   2.016</td>\n",
       "</tr>\n",
       "<tr>\n",
       "  <th>Prob(Omnibus):</th> <td> 0.000</td> <th>  Jarque-Bera (JB):  </th> <td>  80.779</td>\n",
       "</tr>\n",
       "<tr>\n",
       "  <th>Skew:</th>          <td> 0.652</td> <th>  Prob(JB):          </th> <td>2.88e-18</td>\n",
       "</tr>\n",
       "<tr>\n",
       "  <th>Kurtosis:</th>      <td> 5.097</td> <th>  Cond. No.          </th> <td>2.91e+08</td>\n",
       "</tr>\n",
       "</table><br/><br/>Notes:<br/>[1] Standard Errors assume that the covariance matrix of the errors is correctly specified.<br/>[2] The condition number is large, 2.91e+08. This might indicate that there are<br/>strong multicollinearity or other numerical problems."
      ],
      "text/latex": "\\begin{center}\n\\begin{tabular}{lclc}\n\\toprule\n\\textbf{Dep. Variable:}    &       mpg        & \\textbf{  R-squared:         } &     0.849   \\\\\n\\textbf{Model:}            &       OLS        & \\textbf{  Adj. R-squared:    } &     0.847   \\\\\n\\textbf{Method:}           &  Least Squares   & \\textbf{  F-statistic:       } &     351.9   \\\\\n\\textbf{Date:}             & Fri, 01 Aug 2025 & \\textbf{  Prob (F-statistic):} & 6.59e-126   \\\\\n\\textbf{Time:}             &     17:39:17     & \\textbf{  Log-Likelihood:    } &   -808.23   \\\\\n\\textbf{No. Observations:} &         318      & \\textbf{  AIC:               } &     1628.   \\\\\n\\textbf{Df Residuals:}     &         312      & \\textbf{  BIC:               } &     1651.   \\\\\n\\textbf{Df Model:}         &           5      & \\textbf{                     } &             \\\\\n\\textbf{Covariance Type:}  &    nonrobust     & \\textbf{                     } &             \\\\\n\\bottomrule\n\\end{tabular}\n\\begin{tabular}{lcccccc}\n                    & \\textbf{coef} & \\textbf{std err} & \\textbf{t} & \\textbf{P$> |$t$|$} & \\textbf{[0.025} & \\textbf{0.975]}  \\\\\n\\midrule\n\\textbf{const}      &      -4.6685  &        4.634     &    -1.008  &         0.314        &      -13.786    &        4.449     \\\\\n\\textbf{weight}     &      -0.0205  &        0.002     &   -11.815  &         0.000        &       -0.024    &       -0.017     \\\\\n\\textbf{weight2}    &    2.246e-06  &     2.65e-07     &     8.475  &         0.000        &     1.72e-06    &     2.77e-06     \\\\\n\\textbf{model year} &       0.8840  &        0.052     &    17.010  &         0.000        &        0.782    &        0.986     \\\\\n\\textbf{origin\\_2}  &       1.6226  &        0.537     &     3.022  &         0.003        &        0.566    &        2.679     \\\\\n\\textbf{origin\\_3}  &       0.8627  &        0.550     &     1.570  &         0.118        &       -0.219    &        1.944     \\\\\n\\bottomrule\n\\end{tabular}\n\\begin{tabular}{lclc}\n\\textbf{Omnibus:}       & 39.109 & \\textbf{  Durbin-Watson:     } &    2.016  \\\\\n\\textbf{Prob(Omnibus):} &  0.000 & \\textbf{  Jarque-Bera (JB):  } &   80.779  \\\\\n\\textbf{Skew:}          &  0.652 & \\textbf{  Prob(JB):          } & 2.88e-18  \\\\\n\\textbf{Kurtosis:}      &  5.097 & \\textbf{  Cond. No.          } & 2.91e+08  \\\\\n\\bottomrule\n\\end{tabular}\n%\\caption{OLS Regression Results}\n\\end{center}\n\nNotes: \\newline\n [1] Standard Errors assume that the covariance matrix of the errors is correctly specified. \\newline\n [2] The condition number is large, 2.91e+08. This might indicate that there are \\newline\n strong multicollinearity or other numerical problems."
     },
     "execution_count": 70,
     "metadata": {},
     "output_type": "execute_result"
    }
   ],
   "execution_count": 70
  },
  {
   "metadata": {},
   "cell_type": "code",
   "outputs": [],
   "execution_count": null,
   "source": [
    "# Evaluate model on a validation set\n",
    "print(f\"Test R2: {r2(y_val, model.predict(X_val))}\")\n",
    "print(f\"test MAE:{mae(y_val, model.predict(X_val),)}\")\n",
    "# The model performs well on validation data with similar metrics to cross-validation\n"
   ],
   "id": "4a63799cb1630812"
  },
  {
   "metadata": {},
   "cell_type": "markdown",
   "source": "## Ridge Regression (Regularized Model)\n",
   "id": "9497fac235541ea2"
  },
  {
   "metadata": {
    "ExecuteTime": {
     "end_time": "2025-08-02T00:00:47.214102Z",
     "start_time": "2025-08-02T00:00:47.205300Z"
    }
   },
   "cell_type": "code",
   "source": [
    "# Import Ridge regression and standardization tools\n",
    "from sklearn.linear_model import RidgeCV\n",
    "from sklearn.preprocessing import StandardScaler\n",
    "\n",
    "# Standardize features (required for regularization)\n",
    "std = StandardScaler()\n",
    "X_m = std.fit_transform(X.values)\n",
    "X_te = std.transform(X_test.values)\n"
   ],
   "id": "4f27fe243b8ae38a",
   "outputs": [],
   "execution_count": 73
  },
  {
   "metadata": {
    "ExecuteTime": {
     "end_time": "2025-08-02T00:00:49.504922Z",
     "start_time": "2025-08-02T00:00:48.626931Z"
    }
   },
   "cell_type": "code",
   "source": [
    "# Perform Ridge regression with cross-validation to find the optimal alpha\n",
    "n_alphas = 200\n",
    "alphas = 10**np.linspace(-3, 3, n_alphas)\n",
    "ridge = RidgeCV(alphas=alphas, cv=5)\n",
    "ridge.fit(X_m, y)\n",
    "\n",
    "print(f\"Training R2: {ridge.score(X_m, y)}\")\n",
    "print(f\"Training MAE: {mae(y,ridge.predict(X_m))}\")\n",
    "print(f\"Optimal alpha: {ridge.alpha_}\")\n",
    "# Ridge regression found an optimal alpha value for regularization\n",
    "# The model has similar performance to OLS but may generalize better\n"
   ],
   "id": "5c727895d3640385",
   "outputs": [
    {
     "name": "stdout",
     "output_type": "stream",
     "text": [
      "0.8493362729712546\n",
      "2.2846449096417545\n",
      "0.0644236350872137\n"
     ]
    }
   ],
   "execution_count": 74
  },
  {
   "metadata": {},
   "cell_type": "code",
   "outputs": [],
   "execution_count": null,
   "source": [
    "# Evaluate Ridge regression on test data\n",
    "print(f\"Test R2: {r2(y_test, ridge.predict(X_te))}\")\n",
    "print(f\"test MAE:{mae(y_test, ridge.predict(X_te),)}\")\n",
    "# Ridge regression performs well on unseen test data\n"
   ],
   "id": "1162230bec16f58c"
  },
  {
   "metadata": {},
   "cell_type": "markdown",
   "source": [
    "## Summary of Findings\n",
    "\n",
    "# Key findings from this analysis:\n",
    "- 1. Vehicle weight is the strongest predictor of fuel economy (mpg)\n",
    "-  2. Newer car models (higher model year) tend to have better fuel efficiency\n",
    "-  3. Asian and European cars generally have better fuel economy than American cars\n",
    "-  4. Our linear regression model explains about 83% of the variance in mpg\n",
    "-  5. Ridge regression performs similarly to OLS, suggesting minimal overfitting\n",
    "\n",
    " The model has a Mean Absolute Error of ~2.4 mpg, meaning predictions are\n",
    " typically within 2.4 mpg of the actual value.\n",
    "\n",
    "# Future improvements could include:\n",
    " - Testing more complex models like Random Forest or Gradient Boosting\n",
    " - Adding more interaction terms to capture combined effects\n",
    " - Exploring additional polynomial features beyond weight squared\n",
    " - Testing log transformations to address slight non-linearity in residuals\n"
   ],
   "id": "f08352abcc97879a"
  }
 ],
 "metadata": {
  "kernelspec": {
   "display_name": "Python [conda env:base] *",
   "language": "python",
   "name": "conda-base-py"
  },
  "language_info": {
   "codemirror_mode": {
    "name": "ipython",
    "version": 2
   },
   "file_extension": ".py",
   "mimetype": "text/x-python",
   "name": "python",
   "nbconvert_exporter": "python",
   "pygments_lexer": "ipython2",
   "version": "2.7.6"
  }
 },
 "nbformat": 4,
 "nbformat_minor": 5
}
